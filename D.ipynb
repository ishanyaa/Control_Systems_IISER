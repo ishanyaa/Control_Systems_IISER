{
 "cells": [
  {
   "cell_type": "code",
   "execution_count": null,
   "metadata": {},
   "outputs": [],
   "source": [
    "%matplotlib qt"
   ]
  },
  {
   "cell_type": "markdown",
   "metadata": {},
   "source": [
    "QUESTION D"
   ]
  },
  {
   "cell_type": "code",
   "execution_count": null,
   "metadata": {},
   "outputs": [],
   "source": [
    "#Ishanya 21329\n",
    "\n",
    "import matplotlib.pyplot as plt\n",
    "import matplotlib.patches as mpatches\n",
    "import numpy as np\n",
    "\n",
    "# Physical parameters of the mass known to the controller\n",
    "m = 5  # Mass in kg\n",
    "k = 3  # Spring constant in Kg/s^2\n",
    "b = 0.5  # Damping coefficient in Kg/s\n",
    "\n",
    "# Parameters for animation\n",
    "length = 5.0\n",
    "width = 1.0\n",
    "\n",
    "# Initial Conditions\n",
    "z0 = 3  # Initial position of mass, m\n",
    "v0 = 0  # Initial velocity of mass m/s\n",
    "\n",
    "# Simulation Parameters\n",
    "t_start = 0  # Start time of simulation\n",
    "t_end = 10  # End time of simulation\n",
    "Ts = 0.01  # Sample time for simulation\n",
    "t_plot = 0.01  # The plotting and animation is updated at this rate\n",
    "\n",
    "class MassAnimation:\n",
    "    def __init__(self):\n",
    "        self.flagInit = True\n",
    "        self.fig, self.ax = plt.subplots()\n",
    "        self.handle = []\n",
    "        self.length = length\n",
    "        self.width = width\n",
    "        self.spring = None  # Store the spring line object\n",
    "        plt.axis([-length - length / 5, 2 * length, -length, 2 * length])\n",
    "        plt.plot([-length - length / 5, 2 * length], [0, 0], 'k--')\n",
    "        plt.plot([-length, -length], [0, 2 * width], 'k')\n",
    "\n",
    "    def update(self, z):\n",
    "        self.drawWeight(z)\n",
    "        self.drawSpring(z)\n",
    "        if self.flagInit:\n",
    "            self.flagInit = False\n",
    "\n",
    "    def drawWeight(self, z):\n",
    "        x = z - width / 2.0\n",
    "        y = 0.0\n",
    "        xy = (x, y)\n",
    "        if self.flagInit:\n",
    "            self.handle.append(mpatches.Rectangle(xy, width, width, fc='purple', ec='black'))\n",
    "            self.ax.add_patch(self.handle[0])\n",
    "        else:\n",
    "            self.handle[0].set_xy(xy)\n",
    "\n",
    "    def drawSpring(self, z):\n",
    "        if self.spring is not None:\n",
    "            self.spring.remove()  # Remove the previous spring line\n",
    "        X = [-length, z - width / 2.0]\n",
    "        Y = [width / 2.0, width / 2.0]\n",
    "        self.spring, = self.ax.plot(X, Y, lw=1, c='orange')  # Create a new spring line\n",
    "\n",
    "def position_at_time(t):\n",
    "    # Generate a simple sine wave motion for the mass\n",
    "    frequency = 0.5  # Adjust the frequency of the sine wave\n",
    "    amplitude = 1.0  # Adjust the amplitude of the sine wave\n",
    "    return z0 + amplitude * np.sin(2 * np.pi * frequency * t)\n",
    "\n",
    "plt.ion()\n",
    "massani = MassAnimation()\n",
    "\n",
    "for t in np.arange(t_start, t_end, Ts):\n",
    "    z = position_at_time(t)\n",
    "    massani.update(z)\n",
    "    plt.pause(t_plot)\n"
   ]
  }
 ],
 "metadata": {
  "kernelspec": {
   "display_name": "base",
   "language": "python",
   "name": "python3"
  },
  "language_info": {
   "codemirror_mode": {
    "name": "ipython",
    "version": 3
   },
   "file_extension": ".py",
   "mimetype": "text/x-python",
   "name": "python",
   "nbconvert_exporter": "python",
   "pygments_lexer": "ipython3",
   "version": "3.11.4"
  }
 },
 "nbformat": 4,
 "nbformat_minor": 2
}
